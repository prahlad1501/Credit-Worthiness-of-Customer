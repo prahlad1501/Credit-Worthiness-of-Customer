{
  "nbformat": 4,
  "nbformat_minor": 0,
  "metadata": {
    "colab": {
      "name": "Credit-Worthiness-of-customer.ipynb",
      "provenance": [],
      "collapsed_sections": [
        "AOymCCIoZ-Cg",
        "P9SrgzjCM3-8",
        "NsdcIFyxuntX"
      ],
      "toc_visible": true
    },
    "kernelspec": {
      "name": "python3",
      "display_name": "Python 3"
    },
    "accelerator": "TPU"
  },
  "cells": [
    {
      "cell_type": "markdown",
      "metadata": {
        "id": "p_g6l1fhDn69"
      },
      "source": [
        "# Credit Worthiness of a Customer"
      ]
    },
    {
      "cell_type": "code",
      "metadata": {
        "id": "W1qH6T4tPlpS",
        "outputId": "8217f046-ebf2-4f65-9520-79613c8dd58f",
        "colab": {
          "base_uri": "https://localhost:8080/",
          "height": 34
        }
      },
      "source": [
        "from google.colab import drive\n",
        "import pandas as pd\n",
        "import numpy as np\n",
        "import matplotlib.pyplot as plt\n",
        "import seaborn as sns\n",
        "from sklearn.model_selection import train_test_split\n",
        "from sklearn.preprocessing import StandardScaler \n",
        "from sklearn.linear_model import LogisticRegression\n",
        "from sklearn.metrics import classification_report, confusion_matrix\n",
        "from sklearn.metrics import accuracy_score \n",
        "from sklearn.feature_selection import RFE\n",
        "from sklearn.tree import DecisionTreeClassifier\n",
        "from sklearn.tree import export_graphviz\n",
        "from sklearn.ensemble import RandomForestClassifier\n",
        "from sklearn.model_selection import RandomizedSearchCV \n",
        "from sklearn.model_selection import GridSearchCV\n",
        "from sklearn import metrics\n",
        "from sklearn.model_selection import cross_val_score\n",
        "\n",
        "drive.mount('/content/drive')"
      ],
      "execution_count": 100,
      "outputs": [
        {
          "output_type": "stream",
          "text": [
            "Drive already mounted at /content/drive; to attempt to forcibly remount, call drive.mount(\"/content/drive\", force_remount=True).\n"
          ],
          "name": "stdout"
        }
      ]
    },
    {
      "cell_type": "markdown",
      "metadata": {
        "id": "AOymCCIoZ-Cg"
      },
      "source": [
        "###Data Pre-processing\n",
        "1. Reading the Dataset (Source : https://archive.ics.uci.edu/ml/datasets/default+of+credit+card+clients).\n",
        "2. Renaming and dropping the redundant collumns.\n",
        "3. Cleaning the Dataset for some inconsistency.\n"
      ]
    },
    {
      "cell_type": "code",
      "metadata": {
        "id": "t4i3vxZzSiL7",
        "outputId": "14dce3b9-3d05-4688-8502-a0eede9bb3c7",
        "colab": {
          "base_uri": "https://localhost:8080/",
          "height": 0
        }
      },
      "source": [
        "data = pd.read_excel(\"/content/drive/My Drive/default of credit card clients.xls\")\n",
        "data.head()"
      ],
      "execution_count": 101,
      "outputs": [
        {
          "output_type": "execute_result",
          "data": {
            "text/html": [
              "<div>\n",
              "<style scoped>\n",
              "    .dataframe tbody tr th:only-of-type {\n",
              "        vertical-align: middle;\n",
              "    }\n",
              "\n",
              "    .dataframe tbody tr th {\n",
              "        vertical-align: top;\n",
              "    }\n",
              "\n",
              "    .dataframe thead th {\n",
              "        text-align: right;\n",
              "    }\n",
              "</style>\n",
              "<table border=\"1\" class=\"dataframe\">\n",
              "  <thead>\n",
              "    <tr style=\"text-align: right;\">\n",
              "      <th></th>\n",
              "      <th>ID</th>\n",
              "      <th>LIMIT_BAL</th>\n",
              "      <th>SEX</th>\n",
              "      <th>EDUCATION</th>\n",
              "      <th>MARRIAGE</th>\n",
              "      <th>AGE</th>\n",
              "      <th>PAY_0</th>\n",
              "      <th>PAY_2</th>\n",
              "      <th>PAY_3</th>\n",
              "      <th>PAY_4</th>\n",
              "      <th>PAY_5</th>\n",
              "      <th>PAY_6</th>\n",
              "      <th>BILL_AMT1</th>\n",
              "      <th>BILL_AMT2</th>\n",
              "      <th>BILL_AMT3</th>\n",
              "      <th>BILL_AMT4</th>\n",
              "      <th>BILL_AMT5</th>\n",
              "      <th>BILL_AMT6</th>\n",
              "      <th>PAY_AMT1</th>\n",
              "      <th>PAY_AMT2</th>\n",
              "      <th>PAY_AMT3</th>\n",
              "      <th>PAY_AMT4</th>\n",
              "      <th>PAY_AMT5</th>\n",
              "      <th>PAY_AMT6</th>\n",
              "      <th>default payment next month</th>\n",
              "    </tr>\n",
              "  </thead>\n",
              "  <tbody>\n",
              "    <tr>\n",
              "      <th>0</th>\n",
              "      <td>1</td>\n",
              "      <td>20000</td>\n",
              "      <td>2</td>\n",
              "      <td>2</td>\n",
              "      <td>1</td>\n",
              "      <td>24</td>\n",
              "      <td>2</td>\n",
              "      <td>2</td>\n",
              "      <td>-1</td>\n",
              "      <td>-1</td>\n",
              "      <td>-2</td>\n",
              "      <td>-2</td>\n",
              "      <td>3913</td>\n",
              "      <td>3102</td>\n",
              "      <td>689</td>\n",
              "      <td>0</td>\n",
              "      <td>0</td>\n",
              "      <td>0</td>\n",
              "      <td>0</td>\n",
              "      <td>689</td>\n",
              "      <td>0</td>\n",
              "      <td>0</td>\n",
              "      <td>0</td>\n",
              "      <td>0</td>\n",
              "      <td>1</td>\n",
              "    </tr>\n",
              "    <tr>\n",
              "      <th>1</th>\n",
              "      <td>2</td>\n",
              "      <td>120000</td>\n",
              "      <td>2</td>\n",
              "      <td>2</td>\n",
              "      <td>2</td>\n",
              "      <td>26</td>\n",
              "      <td>-1</td>\n",
              "      <td>2</td>\n",
              "      <td>0</td>\n",
              "      <td>0</td>\n",
              "      <td>0</td>\n",
              "      <td>2</td>\n",
              "      <td>2682</td>\n",
              "      <td>1725</td>\n",
              "      <td>2682</td>\n",
              "      <td>3272</td>\n",
              "      <td>3455</td>\n",
              "      <td>3261</td>\n",
              "      <td>0</td>\n",
              "      <td>1000</td>\n",
              "      <td>1000</td>\n",
              "      <td>1000</td>\n",
              "      <td>0</td>\n",
              "      <td>2000</td>\n",
              "      <td>1</td>\n",
              "    </tr>\n",
              "    <tr>\n",
              "      <th>2</th>\n",
              "      <td>3</td>\n",
              "      <td>90000</td>\n",
              "      <td>2</td>\n",
              "      <td>2</td>\n",
              "      <td>2</td>\n",
              "      <td>34</td>\n",
              "      <td>0</td>\n",
              "      <td>0</td>\n",
              "      <td>0</td>\n",
              "      <td>0</td>\n",
              "      <td>0</td>\n",
              "      <td>0</td>\n",
              "      <td>29239</td>\n",
              "      <td>14027</td>\n",
              "      <td>13559</td>\n",
              "      <td>14331</td>\n",
              "      <td>14948</td>\n",
              "      <td>15549</td>\n",
              "      <td>1518</td>\n",
              "      <td>1500</td>\n",
              "      <td>1000</td>\n",
              "      <td>1000</td>\n",
              "      <td>1000</td>\n",
              "      <td>5000</td>\n",
              "      <td>0</td>\n",
              "    </tr>\n",
              "    <tr>\n",
              "      <th>3</th>\n",
              "      <td>4</td>\n",
              "      <td>50000</td>\n",
              "      <td>2</td>\n",
              "      <td>2</td>\n",
              "      <td>1</td>\n",
              "      <td>37</td>\n",
              "      <td>0</td>\n",
              "      <td>0</td>\n",
              "      <td>0</td>\n",
              "      <td>0</td>\n",
              "      <td>0</td>\n",
              "      <td>0</td>\n",
              "      <td>46990</td>\n",
              "      <td>48233</td>\n",
              "      <td>49291</td>\n",
              "      <td>28314</td>\n",
              "      <td>28959</td>\n",
              "      <td>29547</td>\n",
              "      <td>2000</td>\n",
              "      <td>2019</td>\n",
              "      <td>1200</td>\n",
              "      <td>1100</td>\n",
              "      <td>1069</td>\n",
              "      <td>1000</td>\n",
              "      <td>0</td>\n",
              "    </tr>\n",
              "    <tr>\n",
              "      <th>4</th>\n",
              "      <td>5</td>\n",
              "      <td>50000</td>\n",
              "      <td>1</td>\n",
              "      <td>2</td>\n",
              "      <td>1</td>\n",
              "      <td>57</td>\n",
              "      <td>-1</td>\n",
              "      <td>0</td>\n",
              "      <td>-1</td>\n",
              "      <td>0</td>\n",
              "      <td>0</td>\n",
              "      <td>0</td>\n",
              "      <td>8617</td>\n",
              "      <td>5670</td>\n",
              "      <td>35835</td>\n",
              "      <td>20940</td>\n",
              "      <td>19146</td>\n",
              "      <td>19131</td>\n",
              "      <td>2000</td>\n",
              "      <td>36681</td>\n",
              "      <td>10000</td>\n",
              "      <td>9000</td>\n",
              "      <td>689</td>\n",
              "      <td>679</td>\n",
              "      <td>0</td>\n",
              "    </tr>\n",
              "  </tbody>\n",
              "</table>\n",
              "</div>"
            ],
            "text/plain": [
              "   ID  LIMIT_BAL  SEX  ...  PAY_AMT5  PAY_AMT6  default payment next month\n",
              "0   1      20000    2  ...         0         0                           1\n",
              "1   2     120000    2  ...         0      2000                           1\n",
              "2   3      90000    2  ...      1000      5000                           0\n",
              "3   4      50000    2  ...      1069      1000                           0\n",
              "4   5      50000    1  ...       689       679                           0\n",
              "\n",
              "[5 rows x 25 columns]"
            ]
          },
          "metadata": {
            "tags": []
          },
          "execution_count": 101
        }
      ]
    },
    {
      "cell_type": "code",
      "metadata": {
        "id": "8T9bu_OuWpBm",
        "outputId": "39fb2fde-b26e-4c00-c61d-349e1665597e",
        "colab": {
          "base_uri": "https://localhost:8080/",
          "height": 0
        }
      },
      "source": [
        "data.rename(columns={\"default payment next month\": \"Default\"}, inplace=True)\n",
        "data.drop('ID', axis = 1, inplace =True) # drop column \"ID\"\n",
        "data.info()"
      ],
      "execution_count": 102,
      "outputs": [
        {
          "output_type": "stream",
          "text": [
            "<class 'pandas.core.frame.DataFrame'>\n",
            "RangeIndex: 30000 entries, 0 to 29999\n",
            "Data columns (total 24 columns):\n",
            " #   Column     Non-Null Count  Dtype\n",
            "---  ------     --------------  -----\n",
            " 0   LIMIT_BAL  30000 non-null  int64\n",
            " 1   SEX        30000 non-null  int64\n",
            " 2   EDUCATION  30000 non-null  int64\n",
            " 3   MARRIAGE   30000 non-null  int64\n",
            " 4   AGE        30000 non-null  int64\n",
            " 5   PAY_0      30000 non-null  int64\n",
            " 6   PAY_2      30000 non-null  int64\n",
            " 7   PAY_3      30000 non-null  int64\n",
            " 8   PAY_4      30000 non-null  int64\n",
            " 9   PAY_5      30000 non-null  int64\n",
            " 10  PAY_6      30000 non-null  int64\n",
            " 11  BILL_AMT1  30000 non-null  int64\n",
            " 12  BILL_AMT2  30000 non-null  int64\n",
            " 13  BILL_AMT3  30000 non-null  int64\n",
            " 14  BILL_AMT4  30000 non-null  int64\n",
            " 15  BILL_AMT5  30000 non-null  int64\n",
            " 16  BILL_AMT6  30000 non-null  int64\n",
            " 17  PAY_AMT1   30000 non-null  int64\n",
            " 18  PAY_AMT2   30000 non-null  int64\n",
            " 19  PAY_AMT3   30000 non-null  int64\n",
            " 20  PAY_AMT4   30000 non-null  int64\n",
            " 21  PAY_AMT5   30000 non-null  int64\n",
            " 22  PAY_AMT6   30000 non-null  int64\n",
            " 23  Default    30000 non-null  int64\n",
            "dtypes: int64(24)\n",
            "memory usage: 5.5 MB\n"
          ],
          "name": "stdout"
        }
      ]
    },
    {
      "cell_type": "code",
      "metadata": {
        "id": "_eoAeQCNZKS6",
        "outputId": "6c0303ef-4051-40be-df9b-943607623dc8",
        "colab": {
          "base_uri": "https://localhost:8080/",
          "height": 0
        }
      },
      "source": [
        "# Separating features and target\n",
        "y = data.Default     # target default=1 or non-default=0\n",
        "features = data.drop('Default', axis = 1, inplace = False)\n",
        "features"
      ],
      "execution_count": 103,
      "outputs": [
        {
          "output_type": "execute_result",
          "data": {
            "text/html": [
              "<div>\n",
              "<style scoped>\n",
              "    .dataframe tbody tr th:only-of-type {\n",
              "        vertical-align: middle;\n",
              "    }\n",
              "\n",
              "    .dataframe tbody tr th {\n",
              "        vertical-align: top;\n",
              "    }\n",
              "\n",
              "    .dataframe thead th {\n",
              "        text-align: right;\n",
              "    }\n",
              "</style>\n",
              "<table border=\"1\" class=\"dataframe\">\n",
              "  <thead>\n",
              "    <tr style=\"text-align: right;\">\n",
              "      <th></th>\n",
              "      <th>LIMIT_BAL</th>\n",
              "      <th>SEX</th>\n",
              "      <th>EDUCATION</th>\n",
              "      <th>MARRIAGE</th>\n",
              "      <th>AGE</th>\n",
              "      <th>PAY_0</th>\n",
              "      <th>PAY_2</th>\n",
              "      <th>PAY_3</th>\n",
              "      <th>PAY_4</th>\n",
              "      <th>PAY_5</th>\n",
              "      <th>PAY_6</th>\n",
              "      <th>BILL_AMT1</th>\n",
              "      <th>BILL_AMT2</th>\n",
              "      <th>BILL_AMT3</th>\n",
              "      <th>BILL_AMT4</th>\n",
              "      <th>BILL_AMT5</th>\n",
              "      <th>BILL_AMT6</th>\n",
              "      <th>PAY_AMT1</th>\n",
              "      <th>PAY_AMT2</th>\n",
              "      <th>PAY_AMT3</th>\n",
              "      <th>PAY_AMT4</th>\n",
              "      <th>PAY_AMT5</th>\n",
              "      <th>PAY_AMT6</th>\n",
              "    </tr>\n",
              "  </thead>\n",
              "  <tbody>\n",
              "    <tr>\n",
              "      <th>0</th>\n",
              "      <td>20000</td>\n",
              "      <td>2</td>\n",
              "      <td>2</td>\n",
              "      <td>1</td>\n",
              "      <td>24</td>\n",
              "      <td>2</td>\n",
              "      <td>2</td>\n",
              "      <td>-1</td>\n",
              "      <td>-1</td>\n",
              "      <td>-2</td>\n",
              "      <td>-2</td>\n",
              "      <td>3913</td>\n",
              "      <td>3102</td>\n",
              "      <td>689</td>\n",
              "      <td>0</td>\n",
              "      <td>0</td>\n",
              "      <td>0</td>\n",
              "      <td>0</td>\n",
              "      <td>689</td>\n",
              "      <td>0</td>\n",
              "      <td>0</td>\n",
              "      <td>0</td>\n",
              "      <td>0</td>\n",
              "    </tr>\n",
              "    <tr>\n",
              "      <th>1</th>\n",
              "      <td>120000</td>\n",
              "      <td>2</td>\n",
              "      <td>2</td>\n",
              "      <td>2</td>\n",
              "      <td>26</td>\n",
              "      <td>-1</td>\n",
              "      <td>2</td>\n",
              "      <td>0</td>\n",
              "      <td>0</td>\n",
              "      <td>0</td>\n",
              "      <td>2</td>\n",
              "      <td>2682</td>\n",
              "      <td>1725</td>\n",
              "      <td>2682</td>\n",
              "      <td>3272</td>\n",
              "      <td>3455</td>\n",
              "      <td>3261</td>\n",
              "      <td>0</td>\n",
              "      <td>1000</td>\n",
              "      <td>1000</td>\n",
              "      <td>1000</td>\n",
              "      <td>0</td>\n",
              "      <td>2000</td>\n",
              "    </tr>\n",
              "    <tr>\n",
              "      <th>2</th>\n",
              "      <td>90000</td>\n",
              "      <td>2</td>\n",
              "      <td>2</td>\n",
              "      <td>2</td>\n",
              "      <td>34</td>\n",
              "      <td>0</td>\n",
              "      <td>0</td>\n",
              "      <td>0</td>\n",
              "      <td>0</td>\n",
              "      <td>0</td>\n",
              "      <td>0</td>\n",
              "      <td>29239</td>\n",
              "      <td>14027</td>\n",
              "      <td>13559</td>\n",
              "      <td>14331</td>\n",
              "      <td>14948</td>\n",
              "      <td>15549</td>\n",
              "      <td>1518</td>\n",
              "      <td>1500</td>\n",
              "      <td>1000</td>\n",
              "      <td>1000</td>\n",
              "      <td>1000</td>\n",
              "      <td>5000</td>\n",
              "    </tr>\n",
              "    <tr>\n",
              "      <th>3</th>\n",
              "      <td>50000</td>\n",
              "      <td>2</td>\n",
              "      <td>2</td>\n",
              "      <td>1</td>\n",
              "      <td>37</td>\n",
              "      <td>0</td>\n",
              "      <td>0</td>\n",
              "      <td>0</td>\n",
              "      <td>0</td>\n",
              "      <td>0</td>\n",
              "      <td>0</td>\n",
              "      <td>46990</td>\n",
              "      <td>48233</td>\n",
              "      <td>49291</td>\n",
              "      <td>28314</td>\n",
              "      <td>28959</td>\n",
              "      <td>29547</td>\n",
              "      <td>2000</td>\n",
              "      <td>2019</td>\n",
              "      <td>1200</td>\n",
              "      <td>1100</td>\n",
              "      <td>1069</td>\n",
              "      <td>1000</td>\n",
              "    </tr>\n",
              "    <tr>\n",
              "      <th>4</th>\n",
              "      <td>50000</td>\n",
              "      <td>1</td>\n",
              "      <td>2</td>\n",
              "      <td>1</td>\n",
              "      <td>57</td>\n",
              "      <td>-1</td>\n",
              "      <td>0</td>\n",
              "      <td>-1</td>\n",
              "      <td>0</td>\n",
              "      <td>0</td>\n",
              "      <td>0</td>\n",
              "      <td>8617</td>\n",
              "      <td>5670</td>\n",
              "      <td>35835</td>\n",
              "      <td>20940</td>\n",
              "      <td>19146</td>\n",
              "      <td>19131</td>\n",
              "      <td>2000</td>\n",
              "      <td>36681</td>\n",
              "      <td>10000</td>\n",
              "      <td>9000</td>\n",
              "      <td>689</td>\n",
              "      <td>679</td>\n",
              "    </tr>\n",
              "    <tr>\n",
              "      <th>...</th>\n",
              "      <td>...</td>\n",
              "      <td>...</td>\n",
              "      <td>...</td>\n",
              "      <td>...</td>\n",
              "      <td>...</td>\n",
              "      <td>...</td>\n",
              "      <td>...</td>\n",
              "      <td>...</td>\n",
              "      <td>...</td>\n",
              "      <td>...</td>\n",
              "      <td>...</td>\n",
              "      <td>...</td>\n",
              "      <td>...</td>\n",
              "      <td>...</td>\n",
              "      <td>...</td>\n",
              "      <td>...</td>\n",
              "      <td>...</td>\n",
              "      <td>...</td>\n",
              "      <td>...</td>\n",
              "      <td>...</td>\n",
              "      <td>...</td>\n",
              "      <td>...</td>\n",
              "      <td>...</td>\n",
              "    </tr>\n",
              "    <tr>\n",
              "      <th>29995</th>\n",
              "      <td>220000</td>\n",
              "      <td>1</td>\n",
              "      <td>3</td>\n",
              "      <td>1</td>\n",
              "      <td>39</td>\n",
              "      <td>0</td>\n",
              "      <td>0</td>\n",
              "      <td>0</td>\n",
              "      <td>0</td>\n",
              "      <td>0</td>\n",
              "      <td>0</td>\n",
              "      <td>188948</td>\n",
              "      <td>192815</td>\n",
              "      <td>208365</td>\n",
              "      <td>88004</td>\n",
              "      <td>31237</td>\n",
              "      <td>15980</td>\n",
              "      <td>8500</td>\n",
              "      <td>20000</td>\n",
              "      <td>5003</td>\n",
              "      <td>3047</td>\n",
              "      <td>5000</td>\n",
              "      <td>1000</td>\n",
              "    </tr>\n",
              "    <tr>\n",
              "      <th>29996</th>\n",
              "      <td>150000</td>\n",
              "      <td>1</td>\n",
              "      <td>3</td>\n",
              "      <td>2</td>\n",
              "      <td>43</td>\n",
              "      <td>-1</td>\n",
              "      <td>-1</td>\n",
              "      <td>-1</td>\n",
              "      <td>-1</td>\n",
              "      <td>0</td>\n",
              "      <td>0</td>\n",
              "      <td>1683</td>\n",
              "      <td>1828</td>\n",
              "      <td>3502</td>\n",
              "      <td>8979</td>\n",
              "      <td>5190</td>\n",
              "      <td>0</td>\n",
              "      <td>1837</td>\n",
              "      <td>3526</td>\n",
              "      <td>8998</td>\n",
              "      <td>129</td>\n",
              "      <td>0</td>\n",
              "      <td>0</td>\n",
              "    </tr>\n",
              "    <tr>\n",
              "      <th>29997</th>\n",
              "      <td>30000</td>\n",
              "      <td>1</td>\n",
              "      <td>2</td>\n",
              "      <td>2</td>\n",
              "      <td>37</td>\n",
              "      <td>4</td>\n",
              "      <td>3</td>\n",
              "      <td>2</td>\n",
              "      <td>-1</td>\n",
              "      <td>0</td>\n",
              "      <td>0</td>\n",
              "      <td>3565</td>\n",
              "      <td>3356</td>\n",
              "      <td>2758</td>\n",
              "      <td>20878</td>\n",
              "      <td>20582</td>\n",
              "      <td>19357</td>\n",
              "      <td>0</td>\n",
              "      <td>0</td>\n",
              "      <td>22000</td>\n",
              "      <td>4200</td>\n",
              "      <td>2000</td>\n",
              "      <td>3100</td>\n",
              "    </tr>\n",
              "    <tr>\n",
              "      <th>29998</th>\n",
              "      <td>80000</td>\n",
              "      <td>1</td>\n",
              "      <td>3</td>\n",
              "      <td>1</td>\n",
              "      <td>41</td>\n",
              "      <td>1</td>\n",
              "      <td>-1</td>\n",
              "      <td>0</td>\n",
              "      <td>0</td>\n",
              "      <td>0</td>\n",
              "      <td>-1</td>\n",
              "      <td>-1645</td>\n",
              "      <td>78379</td>\n",
              "      <td>76304</td>\n",
              "      <td>52774</td>\n",
              "      <td>11855</td>\n",
              "      <td>48944</td>\n",
              "      <td>85900</td>\n",
              "      <td>3409</td>\n",
              "      <td>1178</td>\n",
              "      <td>1926</td>\n",
              "      <td>52964</td>\n",
              "      <td>1804</td>\n",
              "    </tr>\n",
              "    <tr>\n",
              "      <th>29999</th>\n",
              "      <td>50000</td>\n",
              "      <td>1</td>\n",
              "      <td>2</td>\n",
              "      <td>1</td>\n",
              "      <td>46</td>\n",
              "      <td>0</td>\n",
              "      <td>0</td>\n",
              "      <td>0</td>\n",
              "      <td>0</td>\n",
              "      <td>0</td>\n",
              "      <td>0</td>\n",
              "      <td>47929</td>\n",
              "      <td>48905</td>\n",
              "      <td>49764</td>\n",
              "      <td>36535</td>\n",
              "      <td>32428</td>\n",
              "      <td>15313</td>\n",
              "      <td>2078</td>\n",
              "      <td>1800</td>\n",
              "      <td>1430</td>\n",
              "      <td>1000</td>\n",
              "      <td>1000</td>\n",
              "      <td>1000</td>\n",
              "    </tr>\n",
              "  </tbody>\n",
              "</table>\n",
              "<p>30000 rows × 23 columns</p>\n",
              "</div>"
            ],
            "text/plain": [
              "       LIMIT_BAL  SEX  EDUCATION  ...  PAY_AMT4  PAY_AMT5  PAY_AMT6\n",
              "0          20000    2          2  ...         0         0         0\n",
              "1         120000    2          2  ...      1000         0      2000\n",
              "2          90000    2          2  ...      1000      1000      5000\n",
              "3          50000    2          2  ...      1100      1069      1000\n",
              "4          50000    1          2  ...      9000       689       679\n",
              "...          ...  ...        ...  ...       ...       ...       ...\n",
              "29995     220000    1          3  ...      3047      5000      1000\n",
              "29996     150000    1          3  ...       129         0         0\n",
              "29997      30000    1          2  ...      4200      2000      3100\n",
              "29998      80000    1          3  ...      1926     52964      1804\n",
              "29999      50000    1          2  ...      1000      1000      1000\n",
              "\n",
              "[30000 rows x 23 columns]"
            ]
          },
          "metadata": {
            "tags": []
          },
          "execution_count": 103
        }
      ]
    },
    {
      "cell_type": "code",
      "metadata": {
        "id": "9ZSNXB2aZbc3",
        "outputId": "94d9e377-24e9-47c2-ddc7-fa3341be0783",
        "colab": {
          "base_uri": "https://localhost:8080/",
          "height": 0
        }
      },
      "source": [
        "data['EDUCATION'].unique()"
      ],
      "execution_count": 104,
      "outputs": [
        {
          "output_type": "execute_result",
          "data": {
            "text/plain": [
              "array([2, 1, 3, 5, 4, 6, 0])"
            ]
          },
          "metadata": {
            "tags": []
          },
          "execution_count": 104
        }
      ]
    },
    {
      "cell_type": "code",
      "metadata": {
        "id": "8Gl4VFKdZdTn",
        "outputId": "49fa7ed0-0522-46e3-acd1-e840011d771a",
        "colab": {
          "base_uri": "https://localhost:8080/",
          "height": 0
        }
      },
      "source": [
        "data['EDUCATION']=np.where(data['EDUCATION'] == 5, 4, data['EDUCATION'])\n",
        "data['EDUCATION']=np.where(data['EDUCATION'] == 6, 4, data['EDUCATION'])\n",
        "data['EDUCATION']=np.where(data['EDUCATION'] == 0, 4, data['EDUCATION'])\n",
        "data['EDUCATION'].unique()"
      ],
      "execution_count": 105,
      "outputs": [
        {
          "output_type": "execute_result",
          "data": {
            "text/plain": [
              "array([2, 1, 3, 4])"
            ]
          },
          "metadata": {
            "tags": []
          },
          "execution_count": 105
        }
      ]
    },
    {
      "cell_type": "code",
      "metadata": {
        "id": "hANsWBBXZrPz",
        "outputId": "50684653-339e-4e11-9ceb-fa62d91c658e",
        "colab": {
          "base_uri": "https://localhost:8080/",
          "height": 0
        }
      },
      "source": [
        "data['MARRIAGE'].unique()"
      ],
      "execution_count": 106,
      "outputs": [
        {
          "output_type": "execute_result",
          "data": {
            "text/plain": [
              "array([1, 2, 3, 0])"
            ]
          },
          "metadata": {
            "tags": []
          },
          "execution_count": 106
        }
      ]
    },
    {
      "cell_type": "code",
      "metadata": {
        "id": "KH0Z1UQGZ3Vt",
        "outputId": "0a85b8a6-ee02-45e3-d8de-305d19007548",
        "colab": {
          "base_uri": "https://localhost:8080/",
          "height": 0
        }
      },
      "source": [
        "data['MARRIAGE']=np.where(data['MARRIAGE'] == 0, 3, data['MARRIAGE'])\n",
        "data['MARRIAGE'].unique()"
      ],
      "execution_count": 107,
      "outputs": [
        {
          "output_type": "execute_result",
          "data": {
            "text/plain": [
              "array([1, 2, 3])"
            ]
          },
          "metadata": {
            "tags": []
          },
          "execution_count": 107
        }
      ]
    },
    {
      "cell_type": "markdown",
      "metadata": {
        "id": "P9SrgzjCM3-8"
      },
      "source": [
        "###Data Visualizaton\n",
        "1. Calculating the target (Default) percentage (Yes, No).\n",
        "2. Describing the data for mean, median, etc for all individual collumns.\n",
        "3. Graphically Representing the dependency of various collumns on target (Default)."
      ]
    },
    {
      "cell_type": "code",
      "metadata": {
        "id": "7ulHHoEsarHF",
        "outputId": "da18fcab-caa4-4c2d-8e68-dde82f00530c",
        "colab": {
          "base_uri": "https://localhost:8080/",
          "height": 0
        }
      },
      "source": [
        "# The frequency of defaults\n",
        "yes = data.Default.sum()\n",
        "no = len(data)-yes\n",
        "\n",
        "# Percentage\n",
        "yes_perc = round(yes/len(data)*100, 1)\n",
        "no_perc = round(no/len(data)*100, 1)\n",
        "\n",
        "print(\"Defaults : \", yes_perc)\n",
        "print (\"Non-Defaults : \", no_perc)"
      ],
      "execution_count": 108,
      "outputs": [
        {
          "output_type": "stream",
          "text": [
            "Defaults :  22.1\n",
            "Non-Defaults :  77.9\n"
          ],
          "name": "stdout"
        }
      ]
    },
    {
      "cell_type": "code",
      "metadata": {
        "id": "tbLISfmdb3cp",
        "outputId": "d5b7afc1-80b4-4e89-c3d7-52ce62d6b7a3",
        "colab": {
          "base_uri": "https://localhost:8080/",
          "height": 0
        }
      },
      "source": [
        "print(data.describe().T)"
      ],
      "execution_count": 109,
      "outputs": [
        {
          "output_type": "stream",
          "text": [
            "             count           mean  ...        75%        max\n",
            "LIMIT_BAL  30000.0  167484.322667  ...  240000.00  1000000.0\n",
            "SEX        30000.0       1.603733  ...       2.00        2.0\n",
            "EDUCATION  30000.0       1.842267  ...       2.00        4.0\n",
            "MARRIAGE   30000.0       1.557267  ...       2.00        3.0\n",
            "AGE        30000.0      35.485500  ...      41.00       79.0\n",
            "PAY_0      30000.0      -0.016700  ...       0.00        8.0\n",
            "PAY_2      30000.0      -0.133767  ...       0.00        8.0\n",
            "PAY_3      30000.0      -0.166200  ...       0.00        8.0\n",
            "PAY_4      30000.0      -0.220667  ...       0.00        8.0\n",
            "PAY_5      30000.0      -0.266200  ...       0.00        8.0\n",
            "PAY_6      30000.0      -0.291100  ...       0.00        8.0\n",
            "BILL_AMT1  30000.0   51223.330900  ...   67091.00   964511.0\n",
            "BILL_AMT2  30000.0   49179.075167  ...   64006.25   983931.0\n",
            "BILL_AMT3  30000.0   47013.154800  ...   60164.75  1664089.0\n",
            "BILL_AMT4  30000.0   43262.948967  ...   54506.00   891586.0\n",
            "BILL_AMT5  30000.0   40311.400967  ...   50190.50   927171.0\n",
            "BILL_AMT6  30000.0   38871.760400  ...   49198.25   961664.0\n",
            "PAY_AMT1   30000.0    5663.580500  ...    5006.00   873552.0\n",
            "PAY_AMT2   30000.0    5921.163500  ...    5000.00  1684259.0\n",
            "PAY_AMT3   30000.0    5225.681500  ...    4505.00   896040.0\n",
            "PAY_AMT4   30000.0    4826.076867  ...    4013.25   621000.0\n",
            "PAY_AMT5   30000.0    4799.387633  ...    4031.50   426529.0\n",
            "PAY_AMT6   30000.0    5215.502567  ...    4000.00   528666.0\n",
            "Default    30000.0       0.221200  ...       0.00        1.0\n",
            "\n",
            "[24 rows x 8 columns]\n"
          ],
          "name": "stdout"
        }
      ]
    },
    {
      "cell_type": "code",
      "metadata": {
        "id": "eg3Is-LZcF7f",
        "outputId": "8e482cfe-1aae-4cba-8e55-700635caacba",
        "colab": {
          "base_uri": "https://localhost:8080/",
          "height": 0
        }
      },
      "source": [
        "# Creating a new dataframe with categorical variables\n",
        "subset = data[['SEX', 'EDUCATION', 'MARRIAGE', 'PAY_0', 'PAY_2', 'PAY_3', 'PAY_4', 'PAY_5', 'PAY_6', 'Default']]\n",
        "\n",
        "f, axes = plt.subplots(3, 3, figsize=(25, 25), facecolor='white')\n",
        "ax1 = sns.countplot(x=\"SEX\", hue=\"Default\", data=subset, palette=\"icefire\", ax=axes[0,0])\n",
        "ax2 = sns.countplot(x=\"EDUCATION\", hue=\"Default\", data=subset, palette=\"icefire\",ax=axes[0,1])\n",
        "ax3 = sns.countplot(x=\"MARRIAGE\", hue=\"Default\", data=subset, palette=\"icefire\",ax=axes[0,2])\n",
        "ax4 = sns.countplot(x=\"PAY_0\", hue=\"Default\", data=subset, palette=\"icefire\", ax=axes[1,0])\n",
        "ax5 = sns.countplot(x=\"PAY_2\", hue=\"Default\", data=subset, palette=\"icefire\", ax=axes[1,1])\n",
        "ax6 = sns.countplot(x=\"PAY_3\", hue=\"Default\", data=subset, palette=\"icefire\", ax=axes[1,2])\n",
        "ax7 = sns.countplot(x=\"PAY_4\", hue=\"Default\", data=subset, palette=\"icefire\", ax=axes[2,0])\n",
        "ax8 = sns.countplot(x=\"PAY_5\", hue=\"Default\", data=subset, palette=\"icefire\", ax=axes[2,1])\n",
        "ax9 = sns.countplot(x=\"PAY_6\", hue=\"Default\", data=subset, palette=\"icefire\", ax=axes[2,2])"
      ],
      "execution_count": 110,
      "outputs": [
        {
          "output_type": "display_data",
          "data": {
            "image/png": "[encoded data removed]",
            "text/plain": [
              "<Figure size 1800x1800 with 9 Axes>"
            ]
          },
          "metadata": {
            "tags": []
          }
        }
      ]
    },
    {
      "cell_type": "markdown",
      "metadata": {
        "id": "TYqjC8OjQBLz"
      },
      "source": [
        "###Model Building"
      ]
    },
    {
      "cell_type": "code",
      "metadata": {
        "id": "Beb4bglRdMix"
      },
      "source": [
        "x = data.drop('Default', axis=1)  \n",
        "y = data['Default']\n",
        "\n",
        "x_train, x_test, y_train, y_test = train_test_split(x,y, test_size=0.2, stratify=y, random_state=42)"
      ],
      "execution_count": 111,
      "outputs": []
    },
    {
      "cell_type": "code",
      "metadata": {
        "id": "g6pKDXc3pGfS"
      },
      "source": [
        "sc_x = StandardScaler() \n",
        "x_std_train = sc_x.fit_transform(x_train)  \n",
        "x_std_test = sc_x.transform(x_test) "
      ],
      "execution_count": 112,
      "outputs": []
    },
    {
      "cell_type": "markdown",
      "metadata": {
        "id": "NsdcIFyxuntX"
      },
      "source": [
        "####Logistic Regression"
      ]
    },
    {
      "cell_type": "markdown",
      "metadata": {
        "id": "M8GcFgPrVZkC"
      },
      "source": [
        "##### 1. Using original data "
      ]
    },
    {
      "cell_type": "code",
      "metadata": {
        "id": "cXjPw0l4STPL",
        "outputId": "20e82040-c340-4475-dd6b-e118818b3341",
        "colab": {
          "base_uri": "https://localhost:8080/",
          "height": 0
        }
      },
      "source": [
        "lrO = LogisticRegression(random_state = 0, max_iter =1000) \n",
        "lrO.fit(x_train, y_train) "
      ],
      "execution_count": 113,
      "outputs": [
        {
          "output_type": "execute_result",
          "data": {
            "text/plain": [
              "LogisticRegression(C=1.0, class_weight=None, dual=False, fit_intercept=True,\n",
              "                   intercept_scaling=1, l1_ratio=None, max_iter=1000,\n",
              "                   multi_class='auto', n_jobs=None, penalty='l2',\n",
              "                   random_state=0, solver='lbfgs', tol=0.0001, verbose=0,\n",
              "                   warm_start=False)"
            ]
          },
          "metadata": {
            "tags": []
          },
          "execution_count": 113
        }
      ]
    },
    {
      "cell_type": "code",
      "metadata": {
        "id": "4xSdGJzMS2_p"
      },
      "source": [
        "y_pred = lrO.predict(x_test) "
      ],
      "execution_count": 114,
      "outputs": []
    },
    {
      "cell_type": "code",
      "metadata": {
        "id": "wrz2X89aSs2B",
        "outputId": "ba786d6e-fb50-4b8e-c6ea-0025141fb2eb",
        "colab": {
          "base_uri": "https://localhost:8080/",
          "height": 0
        }
      },
      "source": [
        "cm = confusion_matrix(y_test, y_pred) \n",
        "print (\"Confusion Matrix : \\n\", cm) \n",
        "\n",
        "sns.heatmap(cm ,annot=True, cmap=\"icefire\", fmt=\"d\", \n",
        "            xticklabels = ['Non-default', 'Default'], \n",
        "            yticklabels = ['Non-default', 'Default'])\n",
        "plt.ylabel('True label')\n",
        "plt.xlabel('Predicted label')\n",
        "plt.title(\"Confusion Matrix - Logistic Regression (Original Data)\");"
      ],
      "execution_count": 115,
      "outputs": [
        {
          "output_type": "stream",
          "text": [
            "Confusion Matrix : \n",
            " [[4673    0]\n",
            " [1327    0]]\n"
          ],
          "name": "stdout"
        },
        {
          "output_type": "display_data",
          "data": {
            "image/png": "[encoded data removed]",
            "text/plain": [
              "<Figure size 432x288 with 2 Axes>"
            ]
          },
          "metadata": {
            "tags": [],
            "needs_background": "light"
          }
        }
      ]
    },
    {
      "cell_type": "code",
      "metadata": {
        "id": "EfcXH_2jTFX5",
        "outputId": "b48248aa-5b8e-4cb1-ce0c-de60d9a7bbf3",
        "colab": {
          "base_uri": "https://localhost:8080/",
          "height": 0
        }
      },
      "source": [
        "print (\"Accuracy : \", accuracy_score(y_test, y_pred)*100, \"%\") "
      ],
      "execution_count": 116,
      "outputs": [
        {
          "output_type": "stream",
          "text": [
            "Accuracy :  77.88333333333334 %\n"
          ],
          "name": "stdout"
        }
      ]
    },
    {
      "cell_type": "markdown",
      "metadata": {
        "id": "e-ZrKqFjYAzT"
      },
      "source": [
        "##### 2. Ussing Standardised features"
      ]
    },
    {
      "cell_type": "code",
      "metadata": {
        "id": "z3aYWFfaYRbj",
        "outputId": "47151b09-7284-466f-a02b-f64e442318ed",
        "colab": {
          "base_uri": "https://localhost:8080/",
          "height": 0
        }
      },
      "source": [
        "lrStd = LogisticRegression(random_state = 0) \n",
        "lrStd.fit(x_std_train, y_train) "
      ],
      "execution_count": 117,
      "outputs": [
        {
          "output_type": "execute_result",
          "data": {
            "text/plain": [
              "LogisticRegression(C=1.0, class_weight=None, dual=False, fit_intercept=True,\n",
              "                   intercept_scaling=1, l1_ratio=None, max_iter=100,\n",
              "                   multi_class='auto', n_jobs=None, penalty='l2',\n",
              "                   random_state=0, solver='lbfgs', tol=0.0001, verbose=0,\n",
              "                   warm_start=False)"
            ]
          },
          "metadata": {
            "tags": []
          },
          "execution_count": 117
        }
      ]
    },
    {
      "cell_type": "code",
      "metadata": {
        "id": "t9Cj90wQYRbn"
      },
      "source": [
        "y_pred = lrStd.predict(x_std_test) "
      ],
      "execution_count": 118,
      "outputs": []
    },
    {
      "cell_type": "code",
      "metadata": {
        "id": "12F2knCzYRbp",
        "outputId": "c0214f67-70c2-4bef-b897-0cc6aee123b2",
        "colab": {
          "base_uri": "https://localhost:8080/",
          "height": 0
        }
      },
      "source": [
        "cm = confusion_matrix(y_test, y_pred) \n",
        "print (\"Confusion Matrix : \\n\", cm) \n",
        "\n",
        "sns.heatmap(cm ,annot=True, cmap=\"icefire\", fmt=\"d\", \n",
        "            xticklabels = ['Non-default', 'Default'], \n",
        "            yticklabels = ['Non-default', 'Default'])\n",
        "plt.ylabel('True label')\n",
        "plt.xlabel('Predicted label')\n",
        "plt.title(\"Confusion Matrix - Logistic Regression (Standardized Data)\");"
      ],
      "execution_count": 119,
      "outputs": [
        {
          "output_type": "stream",
          "text": [
            "Confusion Matrix : \n",
            " [[4526  147]\n",
            " [1005  322]]\n"
          ],
          "name": "stdout"
        },
        {
          "output_type": "display_data",
          "data": {
            "image/png": "[encoded data removed]",
            "text/plain": [
              "<Figure size 432x288 with 2 Axes>"
            ]
          },
          "metadata": {
            "tags": [],
            "needs_background": "light"
          }
        }
      ]
    },
    {
      "cell_type": "code",
      "metadata": {
        "id": "kuHQcvgzYRbr",
        "outputId": "13baa492-a2ea-419a-fb2f-37acb89d0c15",
        "colab": {
          "base_uri": "https://localhost:8080/",
          "height": 0
        }
      },
      "source": [
        "print (\"Accuracy : \", accuracy_score(y_test, y_pred)*100, \"%\") "
      ],
      "execution_count": 120,
      "outputs": [
        {
          "output_type": "stream",
          "text": [
            "Accuracy :  80.80000000000001 %\n"
          ],
          "name": "stdout"
        }
      ]
    },
    {
      "cell_type": "markdown",
      "metadata": {
        "id": "isflCxpWWioR"
      },
      "source": [
        "##### 3. Using Essential Features"
      ]
    },
    {
      "cell_type": "code",
      "metadata": {
        "id": "osTBkhB6ZaEJ"
      },
      "source": [
        "lrRFE = LogisticRegression(random_state = 0)\n",
        "no_features = 3\n",
        "rfe_stand = RFE(lrRFE, no_features)\n",
        "fit_stand = rfe_stand.fit(x_std_train, y_train)"
      ],
      "execution_count": 121,
      "outputs": []
    },
    {
      "cell_type": "code",
      "metadata": {
        "id": "pM050gSWac6h",
        "outputId": "4d219674-3f03-458c-c997-4e039515843e",
        "colab": {
          "base_uri": "https://localhost:8080/",
          "height": 0
        }
      },
      "source": [
        "feature_names = np.array(x.columns)\n",
        "print(\"Std Model Feature Ranking:\", fit_stand.ranking_)\n",
        "print('imp features:', feature_names[rfe_stand.support_])"
      ],
      "execution_count": 122,
      "outputs": [
        {
          "output_type": "stream",
          "text": [
            "Std Model Feature Ranking: [ 5 12  8  7  9  1  6  3 10 21 19  1  1 17 11 15 20  2  4 13 14 18 16]\n",
            "imp features: ['PAY_0' 'BILL_AMT1' 'BILL_AMT2']\n"
          ],
          "name": "stdout"
        }
      ]
    },
    {
      "cell_type": "code",
      "metadata": {
        "id": "DU-M8ivSad7x"
      },
      "source": [
        "ximp = x[['PAY_0', 'BILL_AMT1', 'BILL_AMT2']]\n",
        "x_imp_train, x_imp_test, y_imp_train, y_imp_test = train_test_split(ximp, y, test_size=0.2, stratify=y, random_state=42)\n",
        "\n",
        "x_imp_train = sc_x.fit_transform(x_imp_train)  \n",
        "x_imp_test = sc_x.transform(x_imp_test) "
      ],
      "execution_count": 123,
      "outputs": []
    },
    {
      "cell_type": "code",
      "metadata": {
        "id": "4Z3jVY82BJ2Q",
        "outputId": "9624f15d-6eb0-4a2f-c380-ed1eff1740f7",
        "colab": {
          "base_uri": "https://localhost:8080/",
          "height": 0
        }
      },
      "source": [
        "lrRFE.fit(x_imp_train, y_imp_train)"
      ],
      "execution_count": 124,
      "outputs": [
        {
          "output_type": "execute_result",
          "data": {
            "text/plain": [
              "LogisticRegression(C=1.0, class_weight=None, dual=False, fit_intercept=True,\n",
              "                   intercept_scaling=1, l1_ratio=None, max_iter=100,\n",
              "                   multi_class='auto', n_jobs=None, penalty='l2',\n",
              "                   random_state=0, solver='lbfgs', tol=0.0001, verbose=0,\n",
              "                   warm_start=False)"
            ]
          },
          "metadata": {
            "tags": []
          },
          "execution_count": 124
        }
      ]
    },
    {
      "cell_type": "code",
      "metadata": {
        "id": "zP3t6wTYBcNy"
      },
      "source": [
        "y_imp_pred = lrRFE.predict(x_imp_test)"
      ],
      "execution_count": 125,
      "outputs": []
    },
    {
      "cell_type": "code",
      "metadata": {
        "id": "-GPhJWdwBrHp",
        "outputId": "852515d7-45ac-4a75-d322-e2f166002c0d",
        "colab": {
          "base_uri": "https://localhost:8080/",
          "height": 0
        }
      },
      "source": [
        "cm = confusion_matrix(y_imp_test, y_imp_pred) \n",
        "print (\"Confusion Matrix : \\n\", cm) \n",
        "\n",
        "sns.heatmap(cm ,annot=True, cmap=\"icefire\", fmt=\"d\", \n",
        "            xticklabels = ['Non-default', 'Default'], \n",
        "            yticklabels = ['Non-default', 'Default'])\n",
        "plt.ylabel('True label')\n",
        "plt.xlabel('Predicted label')\n",
        "plt.title(\"Confusion Matrix - Logistic Regression (RFE)\");"
      ],
      "execution_count": 126,
      "outputs": [
        {
          "output_type": "stream",
          "text": [
            "Confusion Matrix : \n",
            " [[4513  160]\n",
            " [ 964  363]]\n"
          ],
          "name": "stdout"
        },
        {
          "output_type": "display_data",
          "data": {
            "image/png": "[encoded data removed]",
            "text/plain": [
              "<Figure size 432x288 with 2 Axes>"
            ]
          },
          "metadata": {
            "tags": [],
            "needs_background": "light"
          }
        }
      ]
    },
    {
      "cell_type": "code",
      "metadata": {
        "id": "4w7HeHGVBy9M",
        "outputId": "96152c89-7292-49b0-8c82-7d56f22f763f",
        "colab": {
          "base_uri": "https://localhost:8080/",
          "height": 0
        }
      },
      "source": [
        "print (\"Accuracy : \", accuracy_score(y_imp_test, y_imp_pred)*100, \"%\") "
      ],
      "execution_count": 127,
      "outputs": [
        {
          "output_type": "stream",
          "text": [
            "Accuracy :  81.26666666666667 %\n"
          ],
          "name": "stdout"
        }
      ]
    },
    {
      "cell_type": "markdown",
      "metadata": {
        "id": "mfwi-pneo7oU"
      },
      "source": [
        "#### Decision Tree Classification"
      ]
    },
    {
      "cell_type": "code",
      "metadata": {
        "id": "o3CVOTZXpBPa",
        "outputId": "7845ef20-f10e-48d1-a034-9b61dd0b66ca",
        "colab": {
          "base_uri": "https://localhost:8080/",
          "height": 0
        }
      },
      "source": [
        "dtree = DecisionTreeClassifier()\n",
        "dtree.fit(x_std_train, y_train)"
      ],
      "execution_count": 128,
      "outputs": [
        {
          "output_type": "execute_result",
          "data": {
            "text/plain": [
              "DecisionTreeClassifier(ccp_alpha=0.0, class_weight=None, criterion='gini',\n",
              "                       max_depth=None, max_features=None, max_leaf_nodes=None,\n",
              "                       min_impurity_decrease=0.0, min_impurity_split=None,\n",
              "                       min_samples_leaf=1, min_samples_split=2,\n",
              "                       min_weight_fraction_leaf=0.0, presort='deprecated',\n",
              "                       random_state=None, splitter='best')"
            ]
          },
          "metadata": {
            "tags": []
          },
          "execution_count": 128
        }
      ]
    },
    {
      "cell_type": "code",
      "metadata": {
        "id": "aq2-ulk-rTsw"
      },
      "source": [
        "y_pred = dtree.predict(x_std_test)"
      ],
      "execution_count": 129,
      "outputs": []
    },
    {
      "cell_type": "code",
      "metadata": {
        "id": "Vd-g3UW9r0ba",
        "outputId": "adbbebe0-ff81-4d32-edc0-becb30630c4d",
        "colab": {
          "base_uri": "https://localhost:8080/",
          "height": 0
        }
      },
      "source": [
        "cm = confusion_matrix(y_test, y_pred) \n",
        "print (\"Confusion Matrix : \\n\", cm) \n",
        "\n",
        "sns.heatmap(cm ,annot=True, cmap=\"icefire\", fmt=\"d\", \n",
        "            xticklabels = ['Non-default', 'Default'], \n",
        "            yticklabels = ['Non-default', 'Default'])\n",
        "plt.ylabel('True label')\n",
        "plt.xlabel('Predicted label')\n",
        "plt.title(\"Confusion Matrix - Decision Tree\");"
      ],
      "execution_count": 130,
      "outputs": [
        {
          "output_type": "stream",
          "text": [
            "Confusion Matrix : \n",
            " [[3772  901]\n",
            " [ 801  526]]\n"
          ],
          "name": "stdout"
        },
        {
          "output_type": "display_data",
          "data": {
            "image/png": "[encoded data removed]",
            "text/plain": [
              "<Figure size 432x288 with 2 Axes>"
            ]
          },
          "metadata": {
            "tags": [],
            "needs_background": "light"
          }
        }
      ]
    },
    {
      "cell_type": "code",
      "metadata": {
        "id": "YzUq54Mdr7mQ",
        "outputId": "d65d931e-09c6-4028-e670-b79687bef850",
        "colab": {
          "base_uri": "https://localhost:8080/",
          "height": 0
        }
      },
      "source": [
        "print (\"Accuracy : \", accuracy_score(y_test, y_pred)*100, \"%\") "
      ],
      "execution_count": 131,
      "outputs": [
        {
          "output_type": "stream",
          "text": [
            "Accuracy :  71.63333333333334 %\n"
          ],
          "name": "stdout"
        }
      ]
    },
    {
      "cell_type": "markdown",
      "metadata": {
        "id": "gI-zoRezXuZk"
      },
      "source": [
        "#### Random Forest Classification"
      ]
    },
    {
      "cell_type": "code",
      "metadata": {
        "id": "zkDvPQbIX2ia",
        "outputId": "72af6840-9d5e-4ada-e22a-5d62ef417f18",
        "colab": {
          "base_uri": "https://localhost:8080/",
          "height": 151
        }
      },
      "source": [
        "rf = RandomForestClassifier()\n",
        "rf.fit(x_std_train, y_train)"
      ],
      "execution_count": 132,
      "outputs": [
        {
          "output_type": "execute_result",
          "data": {
            "text/plain": [
              "RandomForestClassifier(bootstrap=True, ccp_alpha=0.0, class_weight=None,\n",
              "                       criterion='gini', max_depth=None, max_features='auto',\n",
              "                       max_leaf_nodes=None, max_samples=None,\n",
              "                       min_impurity_decrease=0.0, min_impurity_split=None,\n",
              "                       min_samples_leaf=1, min_samples_split=2,\n",
              "                       min_weight_fraction_leaf=0.0, n_estimators=100,\n",
              "                       n_jobs=None, oob_score=False, random_state=None,\n",
              "                       verbose=0, warm_start=False)"
            ]
          },
          "metadata": {
            "tags": []
          },
          "execution_count": 132
        }
      ]
    },
    {
      "cell_type": "code",
      "metadata": {
        "id": "7lTFhJN0h7Oi"
      },
      "source": [
        "y_pred = rf.predict(x_std_test)"
      ],
      "execution_count": 133,
      "outputs": []
    },
    {
      "cell_type": "code",
      "metadata": {
        "id": "MZ0tl9voiCUJ",
        "outputId": "94f56a7b-c7d2-4c87-f8a2-e7db1a15c56d",
        "colab": {
          "base_uri": "https://localhost:8080/",
          "height": 346
        }
      },
      "source": [
        "cm = confusion_matrix(y_test, y_pred) \n",
        "print (\"Confusion Matrix : \\n\", cm) \n",
        "\n",
        "sns.heatmap(cm ,annot=True, cmap=\"icefire\", fmt=\"d\", \n",
        "            xticklabels = ['Non-default', 'Default'], \n",
        "            yticklabels = ['Non-default', 'Default'])\n",
        "plt.ylabel('True label')\n",
        "plt.xlabel('Predicted label')\n",
        "plt.title(\"Confusion Matrix - Random Forest\");"
      ],
      "execution_count": 134,
      "outputs": [
        {
          "output_type": "stream",
          "text": [
            "Confusion Matrix : \n",
            " [[4396  277]\n",
            " [ 855  472]]\n"
          ],
          "name": "stdout"
        },
        {
          "output_type": "display_data",
          "data": {
            "image/png": "[encoded data removed]",
            "text/plain": [
              "<Figure size 432x288 with 2 Axes>"
            ]
          },
          "metadata": {
            "tags": [],
            "needs_background": "light"
          }
        }
      ]
    },
    {
      "cell_type": "code",
      "metadata": {
        "id": "YfzOIlCYiF7j",
        "outputId": "a23c1ddb-60c9-4d55-b574-fb3e87c0268d",
        "colab": {
          "base_uri": "https://localhost:8080/",
          "height": 34
        }
      },
      "source": [
        "print (\"Accuracy : \", accuracy_score(y_test, y_pred)*100, \"%\") "
      ],
      "execution_count": 135,
      "outputs": [
        {
          "output_type": "stream",
          "text": [
            "Accuracy :  81.13333333333334 %\n"
          ],
          "name": "stdout"
        }
      ]
    },
    {
      "cell_type": "code",
      "metadata": {
        "id": "FDpTUupbDwSy",
        "outputId": "f504e124-4d3c-4269-c369-e9e6b59cee7f",
        "colab": {
          "base_uri": "https://localhost:8080/",
          "height": 34
        }
      },
      "source": [
        "param = {'n_estimators': [50,100,150,200,250],\n",
        "         \"max_features\": [1,2,3,4,5,6,7,8,9],\n",
        "         'max_depth': [1,2,3,4,5,6,7,8,9]}\n",
        "\n",
        "rf_cv = RandomizedSearchCV(classifier, param_distributions = param, n_iter = 200, cv = 6, random_state=0, n_jobs = -1)\n",
        "\n",
        "rf_cv.fit (x_std_train, y_train)\n",
        "print(\"Tuned Random Forest Parameters : \" , rf_cv.best_params_)"
      ],
      "execution_count": null,
      "outputs": [
        {
          "output_type": "stream",
          "text": [
            "Tuned Random Forest Parameters :  {'n_estimators': 50, 'max_features': 7, 'max_depth': 7}\n"
          ],
          "name": "stdout"
        }
      ]
    },
    {
      "cell_type": "code",
      "metadata": {
        "id": "lT4GiSagTnug"
      },
      "source": [
        "rf = RandomForestClassifier(max_depth= 5, max_features= 7, n_estimators= 200, random_state=0)\n",
        "rf.fit(x_std_train, y_train)\n",
        "y_pred = rf.predict(x_std_test)"
      ],
      "execution_count": 136,
      "outputs": []
    },
    {
      "cell_type": "code",
      "metadata": {
        "id": "BTw8YHmXUWJB",
        "outputId": "442e5766-a977-401f-dd90-4bea0478c259",
        "colab": {
          "base_uri": "https://localhost:8080/",
          "height": 0
        }
      },
      "source": [
        "cm = confusion_matrix(y_test, y_pred) \n",
        "print (\"Confusion Matrix : \\n\", cm) \n",
        "\n",
        "sns.heatmap(cm ,annot=True, cmap=\"icefire\", fmt=\"d\", \n",
        "            xticklabels = ['Non-default', 'Default'], \n",
        "            yticklabels = ['Non-default', 'Default'])\n",
        "plt.ylabel('True label')\n",
        "plt.xlabel('Predicted label')\n",
        "plt.title(\"Confusion Matrix - Random Forest Classifier (Hyperparameterisation)\");"
      ],
      "execution_count": 137,
      "outputs": [
        {
          "output_type": "stream",
          "text": [
            "Confusion Matrix : \n",
            " [[4438  235]\n",
            " [ 862  465]]\n"
          ],
          "name": "stdout"
        },
        {
          "output_type": "display_data",
          "data": {
            "image/png": "[encoded data removed]",
            "text/plain": [
              "<Figure size 432x288 with 2 Axes>"
            ]
          },
          "metadata": {
            "tags": [],
            "needs_background": "light"
          }
        }
      ]
    },
    {
      "cell_type": "code",
      "metadata": {
        "id": "mZ2TtL69UdgC",
        "outputId": "12d5dc2c-a8f2-4a52-da9b-249d601b1e6b",
        "colab": {
          "base_uri": "https://localhost:8080/",
          "height": 0
        }
      },
      "source": [
        "print (\"Accuracy : \", accuracy_score(y_test, y_pred)*100, \"%\")"
      ],
      "execution_count": 138,
      "outputs": [
        {
          "output_type": "stream",
          "text": [
            "Accuracy :  81.71666666666667 %\n"
          ],
          "name": "stdout"
        }
      ]
    },
    {
      "cell_type": "markdown",
      "metadata": {
        "id": "ZBKdvdnzpJ4Z"
      },
      "source": [
        "### Comparison of Model Performance"
      ]
    },
    {
      "cell_type": "markdown",
      "metadata": {
        "id": "YHlbPMr0peWt"
      },
      "source": [
        "#### ROC Curve and AUC"
      ]
    },
    {
      "cell_type": "code",
      "metadata": {
        "id": "nY8PQHE9pXe2"
      },
      "source": [
        "y_pred_proba_RF = rf.predict_proba(x_std_test)[::,1]\n",
        "fpr1, tpr1, _ = metrics.roc_curve(y_test,  y_pred_proba_RF)\n",
        "auc1 = metrics.roc_auc_score(y_test, y_pred_proba_RF)\n",
        "\n",
        "y_pred_proba_DT = dtree.predict_proba(x_std_test)[::,1]\n",
        "fpr2, tpr2, _ = metrics.roc_curve(y_test,  y_pred_proba_DT)\n",
        "auc2 = metrics.roc_auc_score(y_test, y_pred_proba_DT)\n",
        "\n",
        "y_pred_proba_LR = lrO.predict_proba(x_test)[::,1]\n",
        "fpr3, tpr3, _ = metrics.roc_curve(y_test,  y_pred_proba_LR)\n",
        "auc3 = metrics.roc_auc_score(y_test, y_pred_proba_LR)\n",
        "\n",
        "y_pred_proba_LRS = lrStd.predict_proba(x_std_test)[::,1]\n",
        "fpr4, tpr4, _ = metrics.roc_curve(y_test,  y_pred_proba_LRS)\n",
        "auc4 = metrics.roc_auc_score(y_test, y_pred_proba_LRS)\n",
        "\n",
        "y_pred_proba_LRimp = lrRFE.predict_proba(x_imp_test)[::,1]\n",
        "fpr5, tpr5, _ = metrics.roc_curve(y_imp_test,  y_pred_proba_LRimp)\n",
        "auc5 = metrics.roc_auc_score(y_imp_test, y_pred_proba_LRimp)"
      ],
      "execution_count": 139,
      "outputs": []
    },
    {
      "cell_type": "code",
      "metadata": {
        "id": "EvgkfWcNr8ys",
        "outputId": "b8df19bf-12cc-497b-9d4b-888eeecb0ae1",
        "colab": {
          "base_uri": "https://localhost:8080/",
          "height": 459
        }
      },
      "source": [
        "plt.figure(figsize=(10,7))\n",
        "plt.plot([0, 1], [0, 1], 'k--')\n",
        "plt.plot(fpr1,tpr1,label=\"Random Forest, auc=\"+str(round(auc1,2)))\n",
        "plt.plot(fpr2,tpr2,label=\"Decision Tree, auc=\"+str(round(auc2,2)))\n",
        "plt.plot(fpr3,tpr3,label=\"LogReg, auc=\"+str(round(auc3,2)))\n",
        "plt.plot(fpr4,tpr4,label=\"LogReg(std), auc=\"+str(round(auc4,2)))\n",
        "plt.plot(fpr5,tpr5,label=\"LogReg(Std&Imp), auc=\"+str(round(auc5,2)))\n",
        "plt.legend(loc=4, title='Models', facecolor='white')\n",
        "plt.xlabel('False Positive Rate')\n",
        "plt.ylabel('True Positive Rate (Recall)')"
      ],
      "execution_count": 140,
      "outputs": [
        {
          "output_type": "execute_result",
          "data": {
            "text/plain": [
              "Text(0, 0.5, 'True Positive Rate (Recall)')"
            ]
          },
          "metadata": {
            "tags": []
          },
          "execution_count": 140
        },
        {
          "output_type": "display_data",
          "data": {
            "image/png": "[encoded data removed]",
            "text/plain": [
              "<Figure size 720x504 with 1 Axes>"
            ]
          },
          "metadata": {
            "tags": [],
            "needs_background": "light"
          }
        }
      ]
    },
    {
      "cell_type": "markdown",
      "metadata": {
        "id": "lr8NajTpBMye"
      },
      "source": [
        "#### Cross Validation Accuracy"
      ]
    },
    {
      "cell_type": "code",
      "metadata": {
        "id": "VK7yp8qsBL0A",
        "outputId": "25b4eaa3-30e3-4751-ecc8-3878d55e6d1b",
        "colab": {
          "base_uri": "https://localhost:8080/",
          "height": 101
        }
      },
      "source": [
        "cv_results_lrO = cross_val_score(lrO , x_train, y_train, scoring = 'accuracy')\n",
        "print (\"Logistic Regression using original data : \", cv_results_lrO.mean())\n",
        "\n",
        "cv_results_lrStd = cross_val_score(lrStd , x_std_train, y_train, scoring = 'accuracy')\n",
        "print (\"Logistic Regression using standardized data : \", cv_results_lrStd.mean())\n",
        "\n",
        "cv_results_lrRFE = cross_val_score(lrRFE , x_imp_train, y_imp_train, scoring = 'accuracy')\n",
        "print (\"Logistic Regression using RFE data : \", cv_results_lrRFE.mean())\n",
        "\n",
        "cv_results_dt = cross_val_score(dtree , x_std_train, y_train, scoring = 'accuracy')\n",
        "print (\"Decision Tree using standardised data : \", cv_results_dt.mean())\n",
        "\n",
        "cv_results_rf = cross_val_score(rf , x_std_train, y_train, scoring = 'accuracy')\n",
        "print (\"Random Forest using original data : \", cv_results_rf.mean())"
      ],
      "execution_count": 143,
      "outputs": [
        {
          "output_type": "stream",
          "text": [
            "Logistic Regression using original data :  0.7787916666666667\n",
            "Logistic Regression using standardized data :  0.8112916666666667\n",
            "Logistic Regression using RFE data :  0.8129583333333332\n",
            "Decision Tree using standardised data :  0.7277916666666667\n",
            "Random Forest using original data :  0.8221666666666667\n"
          ],
          "name": "stdout"
        }
      ]
    },
    {
      "cell_type": "code",
      "metadata": {
        "id": "nq4qxO5nGNPx",
        "outputId": "19375373-033f-4e44-a3fa-21e1fa93294d",
        "colab": {
          "base_uri": "https://localhost:8080/",
          "height": 351
        }
      },
      "source": [
        "fig = plt.figure()\n",
        "ax = fig.add_axes([0,0,1,1])\n",
        "ax.set_ylim([0,1])\n",
        "models = ['LR \\n (original data)', 'LR \\n (standard data)', 'LR (RFE data)', 'Decision Tree', 'Random Forest']\n",
        "accuracy = [cv_results_lrO.mean(), cv_results_lrStd.mean(), cv_results_lrRFE.mean(), cv_results_dt.mean(), cv_results_rf.mean()]\n",
        "temp = ax.bar(models, accuracy)\n",
        "for t in temp:\n",
        "        height = t.get_height()\n",
        "        ax.text(t.get_x() + t.get_width()/2., 1.05*height, '%f' % float(height), ha='center', va='bottom')\n",
        "plt.show()"
      ],
      "execution_count": 144,
      "outputs": [
        {
          "output_type": "display_data",
          "data": {
            "image/png": "[encoded data removed]",
            "text/plain": [
              "<Figure size 432x288 with 1 Axes>"
            ]
          },
          "metadata": {
            "tags": [],
            "needs_background": "light"
          }
        }
      ]
    }
  ]
}